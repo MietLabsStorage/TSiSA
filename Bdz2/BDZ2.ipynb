{
 "cells": [
  {
   "cell_type": "code",
   "execution_count": 46,
   "metadata": {},
   "outputs": [],
   "source": [
    "from collections.abc import Sequence\n",
    "from icecream import ic"
   ]
  },
  {
   "cell_type": "code",
   "execution_count": 47,
   "metadata": {},
   "outputs": [],
   "source": [
    "# Входные данные\n",
    "\n",
    "T01 = 35 / 1000 # sec (20 ms)\n",
    "T02 = 25 / 1000 # sec (30 ms)\n",
    "T03 = 70 / 1000 # sec (80 ms)\n",
    "T04 = 15.0      # sec\n",
    "T05 = 130.0     # sec\n",
    "h12 = 656\n",
    "h13 = 338\n",
    "h15 = 6\n",
    "l0 = 0.005"
   ]
  },
  {
   "cell_type": "code",
   "execution_count": 48,
   "metadata": {},
   "outputs": [],
   "source": [
    "# Выражение интенсивностей протоков требований через интенсивность входного потока\n",
    "\n",
    "def lambda_s(l0: float):\n",
    "    l5 = l0\n",
    "    l4 = l0\n",
    "    l1 = 1000 * l0 / h15\n",
    "    l2 = h12 / 1000 * l1\n",
    "    l3 = h13 / 1000 * l1\n",
    "    return l1, l2, l3, l4, l5"
   ]
  },
  {
   "cell_type": "code",
   "execution_count": 49,
   "metadata": {},
   "outputs": [],
   "source": [
    "# Интенсивности обсулживания на элементах\n",
    "\n",
    "def mu_s(T: Sequence[int]):\n",
    "    return [1 / t for t in T]"
   ]
  },
  {
   "cell_type": "code",
   "execution_count": 50,
   "metadata": {},
   "outputs": [],
   "source": [
    "# Загрузи СМО\n",
    "\n",
    "def ro_s(L: Sequence[float], M: Sequence[float]) -> Sequence[float]:\n",
    "    count = len(L)\n",
    "    if count != len(M):\n",
    "        raise \"Длины входных массивов не равны\"\n",
    "    P = []\n",
    "    for i in range(count):\n",
    "        P.append(L[i] / M[i])\n",
    "    return P"
   ]
  },
  {
   "cell_type": "code",
   "execution_count": 51,
   "metadata": {},
   "outputs": [],
   "source": [
    "# Частоты прохождения заявок через СМО\n",
    "\n",
    "def a_s(l0: float, L: Sequence[float]):\n",
    "    return [l / l0 for l in L]"
   ]
  },
  {
   "cell_type": "code",
   "execution_count": 52,
   "metadata": {},
   "outputs": [],
   "source": [
    "# Время пребывания в каждой СМО\n",
    "\n",
    "def tn_s(T: Sequence[float], P: Sequence[float]):\n",
    "    count = len(T)\n",
    "    if count != len(P):\n",
    "        raise \"Длины входных массивов не равны\"\n",
    "    Tn = []\n",
    "    for i in range(count):\n",
    "        Tn.append(T[i] * (1 / (1 - P[i])))\n",
    "    return Tn"
   ]
  },
  {
   "cell_type": "code",
   "execution_count": 53,
   "metadata": {},
   "outputs": [],
   "source": [
    "# Общее время пребывания заявки в сети\n",
    "\n",
    "def tn_all(Tn: Sequence[float], A: Sequence[float]):\n",
    "    count = len(Tn)\n",
    "    if count != len(A):\n",
    "        raise \"Длины входных массивов не равны\"\n",
    "    tn = 0\n",
    "    for i in range(count):\n",
    "        tn += A[i] * Tn[i]\n",
    "    return tn"
   ]
  },
  {
   "cell_type": "code",
   "execution_count": 54,
   "metadata": {},
   "outputs": [],
   "source": [
    "l1, l2, l3, l4, l5 = lambda_s(l0)\n",
    "m1, m2, m3, m4, m5 = mu_s([T01, T02, T03, T04, T05])\n",
    "p1, p2, p3, p4, p5 = ro_s([l1, l2, l3, l4, l5], [m1, m2, m3, m4, m5])\n",
    "a1, a2, a3, a4, a5 =  a_s(l0, [l1, l2, l3, l4, l5])\n",
    "tn1, tn2, tn3, tn4, tn5 = tn_s([T01, T02, T03, T04, T05], [p1, p2, p3, p4, p5])\n",
    "tn = tn_all([tn1, tn2, tn3, tn4, tn5], [a1, a2, a3, a4, a5])"
   ]
  },
  {
   "cell_type": "code",
   "execution_count": 55,
   "metadata": {},
   "outputs": [
    {
     "name": "stderr",
     "output_type": "stream",
     "text": [
      "ic| l1: 0.8333333333333334\n",
      "    l2: 0.5466666666666667\n",
      "    l3: 0.2816666666666667\n",
      "    l4: 0.005\n",
      "    l5: 0.005\n"
     ]
    },
    {
     "data": {
      "text/plain": [
       "(0.8333333333333334, 0.5466666666666667, 0.2816666666666667, 0.005, 0.005)"
      ]
     },
     "execution_count": 55,
     "metadata": {},
     "output_type": "execute_result"
    }
   ],
   "source": [
    "ic(l1, l2, l3, l4, l5)"
   ]
  },
  {
   "cell_type": "code",
   "execution_count": 56,
   "metadata": {},
   "outputs": [
    {
     "name": "stderr",
     "output_type": "stream",
     "text": [
      "ic| m1: 28.57142857142857\n",
      "    m2: 40.0\n",
      "    m3: 14.285714285714285\n",
      "    m4: 0.06666666666666667\n",
      "    m5: 0.007692307692307693\n"
     ]
    },
    {
     "data": {
      "text/plain": [
       "(28.57142857142857,\n",
       " 40.0,\n",
       " 14.285714285714285,\n",
       " 0.06666666666666667,\n",
       " 0.007692307692307693)"
      ]
     },
     "execution_count": 56,
     "metadata": {},
     "output_type": "execute_result"
    }
   ],
   "source": [
    "ic(m1, m2, m3, m4, m5)"
   ]
  },
  {
   "cell_type": "code",
   "execution_count": 57,
   "metadata": {},
   "outputs": [
    {
     "name": "stderr",
     "output_type": "stream",
     "text": [
      "ic| p1: 0.02916666666666667\n",
      "    p2: 0.013666666666666669\n",
      "    p3: 0.019716666666666667\n",
      "    p4: 0.075\n",
      "    p5: 0.65\n"
     ]
    },
    {
     "data": {
      "text/plain": [
       "(0.02916666666666667, 0.013666666666666669, 0.019716666666666667, 0.075, 0.65)"
      ]
     },
     "execution_count": 57,
     "metadata": {},
     "output_type": "execute_result"
    }
   ],
   "source": [
    "ic(p1, p2, p3, p4, p5)"
   ]
  },
  {
   "cell_type": "code",
   "execution_count": 58,
   "metadata": {},
   "outputs": [
    {
     "name": "stderr",
     "output_type": "stream",
     "text": [
      "ic| a1: 166.66666666666666\n",
      "    a2: 109.33333333333334\n",
      "    a3: 56.333333333333336\n",
      "    a4: 1.0\n",
      "    a5: 1.0\n"
     ]
    },
    {
     "data": {
      "text/plain": [
       "(166.66666666666666, 109.33333333333334, 56.333333333333336, 1.0, 1.0)"
      ]
     },
     "execution_count": 58,
     "metadata": {},
     "output_type": "execute_result"
    }
   ],
   "source": [
    "ic(a1, a2, a3, a4, a5)"
   ]
  },
  {
   "cell_type": "code",
   "execution_count": 59,
   "metadata": {},
   "outputs": [
    {
     "name": "stderr",
     "output_type": "stream",
     "text": [
      "ic| tn1: 0.036051502145922745\n",
      "    tn2: 0.02534640081108483\n",
      "    tn3: 0.07140792627981707\n",
      "    tn4: 16.216216216216214\n",
      "    tn5: 371.42857142857144\n"
     ]
    },
    {
     "data": {
      "text/plain": [
       "(0.036051502145922745,\n",
       " 0.02534640081108483,\n",
       " 0.07140792627981707,\n",
       " 16.216216216216214,\n",
       " 371.42857142857144)"
      ]
     },
     "execution_count": 59,
     "metadata": {},
     "output_type": "execute_result"
    }
   ],
   "source": [
    "ic(tn1, tn2, tn3, tn4, tn5)"
   ]
  },
  {
   "cell_type": "code",
   "execution_count": 60,
   "metadata": {},
   "outputs": [
    {
     "name": "stderr",
     "output_type": "stream",
     "text": [
      "ic| tn: 400.4472243382164\n"
     ]
    },
    {
     "data": {
      "text/plain": [
       "400.4472243382164"
      ]
     },
     "execution_count": 60,
     "metadata": {},
     "output_type": "execute_result"
    }
   ],
   "source": [
    "ic(tn)"
   ]
  }
 ],
 "metadata": {
  "kernelspec": {
   "display_name": "Python 3",
   "language": "python",
   "name": "python3"
  },
  "language_info": {
   "codemirror_mode": {
    "name": "ipython",
    "version": 3
   },
   "file_extension": ".py",
   "mimetype": "text/x-python",
   "name": "python",
   "nbconvert_exporter": "python",
   "pygments_lexer": "ipython3",
   "version": "3.11.1"
  }
 },
 "nbformat": 4,
 "nbformat_minor": 2
}
