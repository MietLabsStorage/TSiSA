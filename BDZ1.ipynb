{
 "cells": [
  {
   "cell_type": "code",
   "execution_count": 1,
   "metadata": {
    "colab": {
     "base_uri": "https://localhost:8080/"
    },
    "executionInfo": {
     "elapsed": 6202,
     "status": "ok",
     "timestamp": 1692002067485,
     "user": {
      "displayName": "Maks Myasnikov",
      "userId": "09952777020151044467"
     },
     "user_tz": -180
    },
    "id": "otEByrv6EWHi",
    "outputId": "c4c8ab0f-814b-4481-cc50-89f7f9e00891"
   },
   "outputs": [],
   "source": [
    "#%pip install icecream"
   ]
  },
  {
   "cell_type": "code",
   "execution_count": 2,
   "metadata": {
    "executionInfo": {
     "elapsed": 889,
     "status": "ok",
     "timestamp": 1692002068369,
     "user": {
      "displayName": "Maks Myasnikov",
      "userId": "09952777020151044467"
     },
     "user_tz": -180
    },
    "id": "PVUwtJgAwnDQ"
   },
   "outputs": [],
   "source": [
    "from dataclasses import dataclass\n",
    "from icecream import ic\n",
    "import matplotlib.pyplot as plt\n",
    "import copy\n",
    "import numpy as np\n",
    "import pandas as pd"
   ]
  },
  {
   "cell_type": "markdown",
   "metadata": {
    "id": "qB0mbBlMQfPy"
   },
   "source": [
    "### Подготовка данных"
   ]
  },
  {
   "cell_type": "code",
   "execution_count": 3,
   "metadata": {
    "executionInfo": {
     "elapsed": 10,
     "status": "ok",
     "timestamp": 1692002068369,
     "user": {
      "displayName": "Maks Myasnikov",
      "userId": "09952777020151044467"
     },
     "user_tz": -180
    },
    "id": "rMT0jROYut8m"
   },
   "outputs": [],
   "source": [
    "@dataclass\n",
    "class Request:\n",
    "  id: int\n",
    "  receipt_time: int\n",
    "  process_time: int\n",
    "  waiting_time: int = 0\n",
    "  ticks_in_pocessor: int = 0"
   ]
  },
  {
   "cell_type": "code",
   "execution_count": 4,
   "metadata": {
    "executionInfo": {
     "elapsed": 10,
     "status": "ok",
     "timestamp": 1692002068370,
     "user": {
      "displayName": "Maks Myasnikov",
      "userId": "09952777020151044467"
     },
     "user_tz": -180
    },
    "id": "PIKEbn2gt9YB"
   },
   "outputs": [],
   "source": [
    "def get_requests_queue():\n",
    "  return [\n",
    "      Request(1, 0, 10),\n",
    "      Request(2, 5, 10),\n",
    "      Request(3, 15, 5),\n",
    "      Request(4, 30, 10),\n",
    "      Request(5, 35, 5),\n",
    "      Request(6, 40, 10),\n",
    "      Request(7, 50, 5),\n",
    "      Request(8, 70, 5),\n",
    "      Request(9, 80, 10),\n",
    "      Request(10, 85, 5),\n",
    "  ]"
   ]
  },
  {
   "cell_type": "markdown",
   "metadata": {
    "id": "GkuwQYymPJUa"
   },
   "source": [
    "### Рассчет исходных характеристик системы"
   ]
  },
  {
   "cell_type": "code",
   "execution_count": 5,
   "metadata": {
    "executionInfo": {
     "elapsed": 9,
     "status": "ok",
     "timestamp": 1692002068370,
     "user": {
      "displayName": "Maks Myasnikov",
      "userId": "09952777020151044467"
     },
     "user_tz": -180
    },
    "id": "Bc-KJRoVwzGe"
   },
   "outputs": [],
   "source": [
    "requests = get_requests_queue()\n",
    "life_time = 100\n",
    "requests_count = len(requests)\n",
    "input_time = life_time / requests_count\n",
    "λ = 1 / input_time\n",
    "all_process_time = sum(r.process_time for r in requests)\n",
    "avg_process_time = all_process_time / input_time\n",
    "μ = 1 / avg_process_time"
   ]
  },
  {
   "cell_type": "code",
   "execution_count": 6,
   "metadata": {
    "colab": {
     "base_uri": "https://localhost:8080/"
    },
    "executionInfo": {
     "elapsed": 10,
     "status": "ok",
     "timestamp": 1692002068371,
     "user": {
      "displayName": "Maks Myasnikov",
      "userId": "09952777020151044467"
     },
     "user_tz": -180
    },
    "id": "-Ed56mPxyAVn",
    "outputId": "3a2adda2-2e39-4a0d-8bf6-b97d99eeb324"
   },
   "outputs": [
    {
     "name": "stdout",
     "output_type": "stream",
     "text": [
      "Общее время рассматриваемого интервала = 100\n",
      "Всего заявок = 10\n",
      "Среднее время между заявками = 10.0\n",
      "Интенсивность входного потока = 0.1\n",
      "Общее время обработки заявок = 75\n",
      "Среднее время обработки одной заявки = 7.5\n",
      "Интенсивность обслуживания = 0.13333333333333333\n"
     ]
    }
   ],
   "source": [
    "print('Общее время рассматриваемого интервала', life_time, sep=' = ')\n",
    "print('Всего заявок', requests_count, sep=' = ')\n",
    "print('Среднее время между заявками', input_time, sep=' = ')\n",
    "print('Интенсивность входного потока', λ, sep=' = ')\n",
    "print('Общее время обработки заявок', all_process_time, sep=' = ')\n",
    "print('Среднее время обработки одной заявки', avg_process_time, sep=' = ')\n",
    "print('Интенсивность обслуживания', μ, sep=' = ')"
   ]
  },
  {
   "cell_type": "markdown",
   "metadata": {
    "id": "g_z3cCNWPzNB"
   },
   "source": [
    "### Интуитивный подход\n",
    "\n"
   ]
  },
  {
   "cell_type": "code",
   "execution_count": 7,
   "metadata": {
    "executionInfo": {
     "elapsed": 389,
     "status": "ok",
     "timestamp": 1692002068753,
     "user": {
      "displayName": "Maks Myasnikov",
      "userId": "09952777020151044467"
     },
     "user_tz": -180
    },
    "id": "Q3oi-LUAB1H2"
   },
   "outputs": [],
   "source": [
    "def run(requests):\n",
    "  queue_snapshots = []\n",
    "  queue = []\n",
    "  working_time = 0\n",
    "\n",
    "  for t in range (0, life_time + 1):\n",
    "    if (len(queue) != 0):\n",
    "      queue[0].ticks_in_pocessor += 1\n",
    "      if queue[0].process_time == queue[0].ticks_in_pocessor:\n",
    "        queue.remove(queue[0])\n",
    "    request = next((x for x in requests if x.receipt_time == t), None)\n",
    "    if request is not None:\n",
    "      queue.append(request)\n",
    "    for i in range (1, len(queue)):\n",
    "      queue[i].waiting_time += 1\n",
    "    if (len(queue) != 0):\n",
    "      working_time += 1\n",
    "    queue_snapshots.append(copy.deepcopy(queue))\n",
    "\n",
    "  free_time = life_time - working_time\n",
    "  ρ = working_time / life_time\n",
    "\n",
    "  return free_time, ρ, queue_snapshots, working_time"
   ]
  },
  {
   "cell_type": "code",
   "execution_count": 8,
   "metadata": {
    "executionInfo": {
     "elapsed": 7,
     "status": "ok",
     "timestamp": 1692002068753,
     "user": {
      "displayName": "Maks Myasnikov",
      "userId": "09952777020151044467"
     },
     "user_tz": -180
    },
    "id": "vwZAlo4v1fcF"
   },
   "outputs": [],
   "source": [
    "def show_diagram():\n",
    "  plt.title('Диаграмма работы системы')\n",
    "  plt.xlabel('Время')\n",
    "  plt.ylabel('Номер заявки')\n",
    "  plt.grid()\n",
    "  plt.xticks(np.arange(0, life_time, 5))\n",
    "  x_vals = []\n",
    "  y_vals = []\n",
    "  for i in range (len(queue_snapshots)):\n",
    "    for j in range (len(queue_snapshots[i])):\n",
    "      x_vals.append(queue_snapshots[i][j].receipt_time + queue_snapshots[i][j].ticks_in_pocessor + queue_snapshots[i][j].waiting_time)\n",
    "      y_vals.append(queue_snapshots[i][j].id)\n",
    "  plt.plot(x_vals, y_vals,'ro', markersize=2)\n",
    "  plt.show()"
   ]
  },
  {
   "cell_type": "code",
   "execution_count": 9,
   "metadata": {
    "executionInfo": {
     "elapsed": 5,
     "status": "ok",
     "timestamp": 1692002068753,
     "user": {
      "displayName": "Maks Myasnikov",
      "userId": "09952777020151044467"
     },
     "user_tz": -180
    },
    "id": "Z6sPrMZ9VrMF"
   },
   "outputs": [],
   "source": [
    "def diagram_results():\n",
    "  print('Суммарное время занятости системы', working_time, sep=' = ')\n",
    "  print('Суммарное время простоя системы', free_time, sep=' = ')\n",
    "  print('Загрузка системы', ρ, sep=' = ')"
   ]
  },
  {
   "cell_type": "code",
   "execution_count": 10,
   "metadata": {
    "colab": {
     "base_uri": "https://localhost:8080/",
     "height": 0
    },
    "executionInfo": {
     "elapsed": 449,
     "status": "ok",
     "timestamp": 1692002069198,
     "user": {
      "displayName": "Maks Myasnikov",
      "userId": "09952777020151044467"
     },
     "user_tz": -180
    },
    "id": "aV12Jm_97Y17",
    "outputId": "4868df64-df66-4080-9519-02c73417d1cd"
   },
   "outputs": [
    {
     "data": {
      "image/png": "[encoded data removed]",
      "text/plain": [
       "<Figure size 640x480 with 1 Axes>"
      ]
     },
     "metadata": {},
     "output_type": "display_data"
    },
    {
     "name": "stdout",
     "output_type": "stream",
     "text": [
      "Суммарное время занятости системы = 75\n",
      "Суммарное время простоя системы = 25\n",
      "Загрузка системы = 0.75\n"
     ]
    }
   ],
   "source": [
    "free_time, ρ, queue_snapshots, working_time = run(requests)\n",
    "show_diagram()\n",
    "diagram_results()"
   ]
  },
  {
   "cell_type": "code",
   "execution_count": 11,
   "metadata": {
    "executionInfo": {
     "elapsed": 24,
     "status": "ok",
     "timestamp": 1692002069200,
     "user": {
      "displayName": "Maks Myasnikov",
      "userId": "09952777020151044467"
     },
     "user_tz": -180
    },
    "id": "YEagPMerW5nm"
   },
   "outputs": [],
   "source": [
    "def show_queue_diagram():\n",
    "  plt.title('Диаграмма заявок, стоящих в очереди')\n",
    "  plt.xlabel('Время')\n",
    "  plt.ylabel('Номер заявки')\n",
    "  plt.grid()\n",
    "  plt.xticks(np.arange(0, life_time, 5))\n",
    "  x_vals = []\n",
    "  y_vals = []\n",
    "  for i in range (len(queue_snapshots)):\n",
    "    for j in range (1, len(queue_snapshots[i])):\n",
    "      x_vals.append(queue_snapshots[i][j].receipt_time + queue_snapshots[i][j].ticks_in_pocessor + queue_snapshots[i][j].waiting_time)\n",
    "      y_vals.append(queue_snapshots[i][j].id)\n",
    "  plt.plot(x_vals, y_vals,'ro', markersize=2)\n",
    "  plt.show()"
   ]
  },
  {
   "cell_type": "code",
   "execution_count": 12,
   "metadata": {
    "executionInfo": {
     "elapsed": 27,
     "status": "ok",
     "timestamp": 1692002069204,
     "user": {
      "displayName": "Maks Myasnikov",
      "userId": "09952777020151044467"
     },
     "user_tz": -180
    },
    "id": "sESLTlG5XPoW"
   },
   "outputs": [],
   "source": [
    "def queue_diagram_results():\n",
    "  waiting_time = sum(r.waiting_time for r in requests)\n",
    "  avg_waiting_time = waiting_time / requests_count\n",
    "  print('Суммарное время ожидания', waiting_time, sep=' = ')\n",
    "  print('Среднее время ожидания', avg_waiting_time, sep=' = ')\n",
    "  return avg_waiting_time"
   ]
  },
  {
   "cell_type": "code",
   "execution_count": 13,
   "metadata": {
    "executionInfo": {
     "elapsed": 29,
     "status": "ok",
     "timestamp": 1692002069206,
     "user": {
      "displayName": "Maks Myasnikov",
      "userId": "09952777020151044467"
     },
     "user_tz": -180
    },
    "id": "uysDrdlfZZ-6"
   },
   "outputs": [],
   "source": [
    "def being_results():\n",
    "  being_time = sum(len(y) for y in queue_snapshots) / requests_count\n",
    "  being_count = sum(len(y) for y in queue_snapshots) / life_time\n",
    "  print('Время пребывания заявок в системе', being_time, sep=' = ')\n",
    "  print('Среднее количество заявок в системе', being_count, sep=' = ')\n",
    "  return being_count, being_time"
   ]
  },
  {
   "cell_type": "code",
   "execution_count": 14,
   "metadata": {
    "executionInfo": {
     "elapsed": 29,
     "status": "ok",
     "timestamp": 1692002069206,
     "user": {
      "displayName": "Maks Myasnikov",
      "userId": "09952777020151044467"
     },
     "user_tz": -180
    },
    "id": "SpBzSm1zb0Qv"
   },
   "outputs": [],
   "source": [
    "def waiting_results():\n",
    "  waiting_count = 0\n",
    "  for i in range (len(queue_snapshots)):\n",
    "    for j in range (1, len(queue_snapshots[i])):\n",
    "      waiting_count += 1\n",
    "  waiting_count /= life_time\n",
    "  print('Среднее число заявок в очереди за единицу времени', waiting_count, sep=' = ')\n",
    "  return waiting_count"
   ]
  },
  {
   "cell_type": "code",
   "execution_count": 15,
   "metadata": {
    "colab": {
     "base_uri": "https://localhost:8080/",
     "height": 559
    },
    "executionInfo": {
     "elapsed": 408,
     "status": "ok",
     "timestamp": 1692002069586,
     "user": {
      "displayName": "Maks Myasnikov",
      "userId": "09952777020151044467"
     },
     "user_tz": -180
    },
    "id": "NIl6rncW8dZU",
    "outputId": "6ca486d0-f378-4662-f944-0e4f6abda5d9"
   },
   "outputs": [
    {
     "data": {
      "image/png": "[encoded data removed]",
      "text/plain": [
       "<Figure size 640x480 with 1 Axes>"
      ]
     },
     "metadata": {},
     "output_type": "display_data"
    },
    {
     "name": "stdout",
     "output_type": "stream",
     "text": [
      "Суммарное время ожидания = 30\n",
      "Среднее время ожидания = 3.0\n",
      "Время пребывания заявок в системе = 10.5\n",
      "Среднее количество заявок в системе = 1.05\n",
      "Среднее число заявок в очереди за единицу времени = 0.3\n"
     ]
    }
   ],
   "source": [
    "show_queue_diagram()\n",
    "avg_waiting_time = queue_diagram_results()\n",
    "being_count, being_time = being_results()\n",
    "waiting_count = waiting_results()"
   ]
  },
  {
   "cell_type": "code",
   "execution_count": 16,
   "metadata": {
    "executionInfo": {
     "elapsed": 25,
     "status": "ok",
     "timestamp": 1692002069587,
     "user": {
      "displayName": "Maks Myasnikov",
      "userId": "09952777020151044467"
     },
     "user_tz": -180
    },
    "id": "RPZnqGz1f5Nr"
   },
   "outputs": [],
   "source": [
    "intuitive = [input_time, avg_process_time, ρ, waiting_count, avg_waiting_time, being_count, being_time]"
   ]
  },
  {
   "cell_type": "markdown",
   "metadata": {
    "id": "vQ6lWLuVd2Nw"
   },
   "source": [
    "### Теоретический подсчет"
   ]
  },
  {
   "cell_type": "code",
   "execution_count": 17,
   "metadata": {
    "executionInfo": {
     "elapsed": 29,
     "status": "ok",
     "timestamp": 1692002069592,
     "user": {
      "displayName": "Maks Myasnikov",
      "userId": "09952777020151044467"
     },
     "user_tz": -180
    },
    "id": "QUlTm2vBeJa_"
   },
   "outputs": [],
   "source": [
    "ρ = λ / μ\n",
    "avg_waiting_time = avg_process_time * ρ / (1 - ρ)\n",
    "being_time = avg_process_time / (1 - ρ)\n",
    "waiting_count = ρ ** 2 / (1 - ρ)\n",
    "being_count = ρ / (1 - ρ)"
   ]
  },
  {
   "cell_type": "code",
   "execution_count": 18,
   "metadata": {
    "executionInfo": {
     "elapsed": 35,
     "status": "ok",
     "timestamp": 1692002070062,
     "user": {
      "displayName": "Maks Myasnikov",
      "userId": "09952777020151044467"
     },
     "user_tz": -180
    },
    "id": "r4Leguz_hqcC"
   },
   "outputs": [],
   "source": [
    "theoretical = [input_time, avg_process_time, ρ, waiting_count, avg_waiting_time, being_count, being_time]"
   ]
  },
  {
   "cell_type": "markdown",
   "metadata": {
    "id": "FSUx84phkeeM"
   },
   "source": [
    "### Детерминированный поток"
   ]
  },
  {
   "cell_type": "code",
   "execution_count": 19,
   "metadata": {
    "executionInfo": {
     "elapsed": 36,
     "status": "ok",
     "timestamp": 1692002070063,
     "user": {
      "displayName": "Maks Myasnikov",
      "userId": "09952777020151044467"
     },
     "user_tz": -180
    },
    "id": "rNsAnAGSkoNE"
   },
   "outputs": [],
   "source": [
    "requests = []\n",
    "for i in range(10):\n",
    "  requests.append(Request(i + 1, input_time * i, 7))"
   ]
  },
  {
   "cell_type": "code",
   "execution_count": 20,
   "metadata": {
    "executionInfo": {
     "elapsed": 32,
     "status": "ok",
     "timestamp": 1692002070063,
     "user": {
      "displayName": "Maks Myasnikov",
      "userId": "09952777020151044467"
     },
     "user_tz": -180
    },
    "id": "yEMMGh-omCNR"
   },
   "outputs": [],
   "source": [
    "life_time = 100\n",
    "requests_count = len(requests)\n",
    "input_time = life_time / requests_count\n",
    "λ = 1 / input_time\n",
    "all_process_time = sum(r.process_time for r in requests)\n",
    "avg_process_time = all_process_time / input_time\n",
    "μ = 1 / avg_process_time"
   ]
  },
  {
   "cell_type": "code",
   "execution_count": 21,
   "metadata": {
    "colab": {
     "base_uri": "https://localhost:8080/",
     "height": 0
    },
    "executionInfo": {
     "elapsed": 32,
     "status": "ok",
     "timestamp": 1692002070064,
     "user": {
      "displayName": "Maks Myasnikov",
      "userId": "09952777020151044467"
     },
     "user_tz": -180
    },
    "id": "TFnVpTfa7CWj",
    "outputId": "83296740-4cd9-4ba3-b298-05477d001986"
   },
   "outputs": [
    {
     "data": {
      "image/png": "[encoded data removed]",
      "text/plain": [
       "<Figure size 640x480 with 1 Axes>"
      ]
     },
     "metadata": {},
     "output_type": "display_data"
    },
    {
     "name": "stdout",
     "output_type": "stream",
     "text": [
      "Суммарное время занятости системы = 70\n",
      "Суммарное время простоя системы = 30\n",
      "Загрузка системы = 0.7\n"
     ]
    }
   ],
   "source": [
    "free_time, ρ, queue_snapshots, working_time = run(requests)\n",
    "show_diagram()\n",
    "diagram_results()"
   ]
  },
  {
   "cell_type": "code",
   "execution_count": 22,
   "metadata": {
    "colab": {
     "base_uri": "https://localhost:8080/",
     "height": 0
    },
    "executionInfo": {
     "elapsed": 517,
     "status": "ok",
     "timestamp": 1692002070557,
     "user": {
      "displayName": "Maks Myasnikov",
      "userId": "09952777020151044467"
     },
     "user_tz": -180
    },
    "id": "ELMg22pH-xrn",
    "outputId": "fb3c6459-3dd1-4879-a240-3004c599eb7a"
   },
   "outputs": [
    {
     "data": {
      "image/png": "[encoded data removed]",
      "text/plain": [
       "<Figure size 640x480 with 1 Axes>"
      ]
     },
     "metadata": {},
     "output_type": "display_data"
    },
    {
     "name": "stdout",
     "output_type": "stream",
     "text": [
      "Суммарное время ожидания = 0\n",
      "Среднее время ожидания = 0.0\n",
      "Время пребывания заявок в системе = 7.0\n",
      "Среднее количество заявок в системе = 0.7\n",
      "Среднее число заявок в очереди за единицу времени = 0.0\n"
     ]
    }
   ],
   "source": [
    "show_queue_diagram()\n",
    "avg_waiting_time = queue_diagram_results()\n",
    "being_count, being_time = being_results()\n",
    "waiting_count = waiting_results()"
   ]
  },
  {
   "cell_type": "code",
   "execution_count": 23,
   "metadata": {
    "executionInfo": {
     "elapsed": 19,
     "status": "ok",
     "timestamp": 1692002070558,
     "user": {
      "displayName": "Maks Myasnikov",
      "userId": "09952777020151044467"
     },
     "user_tz": -180
    },
    "id": "RQo_74sU-zf4"
   },
   "outputs": [],
   "source": [
    "determine = [input_time, avg_process_time, ρ, waiting_count, avg_waiting_time, being_count, being_time]"
   ]
  },
  {
   "cell_type": "markdown",
   "metadata": {
    "id": "yZMISk3Pklu9"
   },
   "source": [
    "### Результаты"
   ]
  },
  {
   "cell_type": "code",
   "execution_count": 24,
   "metadata": {
    "colab": {
     "base_uri": "https://localhost:8080/"
    },
    "executionInfo": {
     "elapsed": 19,
     "status": "ok",
     "timestamp": 1692002070559,
     "user": {
      "displayName": "Maks Myasnikov",
      "userId": "09952777020151044467"
     },
     "user_tz": -180
    },
    "id": "e3bRVVvI_OG-",
    "outputId": "7097d4f1-452b-4f5e-fa90-9b332de76332"
   },
   "outputs": [
    {
     "name": "stdout",
     "output_type": "stream",
     "text": [
      "  Характеристики системы  Интуитивный подход  Теор. подсчет.  Детермин. поток\n",
      "0             Т_вх (мин)               10.00           10.00             10.0\n",
      "1              Т_0 (мин)                7.50            7.50              7.0\n",
      "2                      ρ                0.75            0.75              0.7\n",
      "3             N_w (заяв)                0.30            2.25              0.0\n",
      "4              Т_w (мин)                3.00           22.50              0.0\n",
      "5           N_s (заявки)                1.05            3.00              0.7\n",
      "6              T_n (мин)               10.50           30.00              7.0\n"
     ]
    }
   ],
   "source": [
    "data = {\n",
    "    'Характеристики системы': ['Т_вх (мин)', 'Т_0 (мин)', 'ρ', 'N_w (заяв)', 'Т_w (мин)', 'N_s (заявки)', 'T_n (мин)'],\n",
    "    'Интуитивный подход': intuitive,\n",
    "    'Теор. подсчет.': theoretical,\n",
    "    'Детермин. поток': determine\n",
    "}\n",
    "\n",
    "df = pd.DataFrame(data)\n",
    "print(df)"
   ]
  }
 ],
 "metadata": {
  "colab": {
   "authorship_tag": "ABX9TyPGs14sYrWucFpMdt/z4crC",
   "provenance": []
  },
  "kernelspec": {
   "display_name": "Python 3",
   "name": "python3"
  },
  "language_info": {
   "codemirror_mode": {
    "name": "ipython",
    "version": 3
   },
   "file_extension": ".py",
   "mimetype": "text/x-python",
   "name": "python",
   "nbconvert_exporter": "python",
   "pygments_lexer": "ipython3",
   "version": "3.11.2"
  }
 },
 "nbformat": 4,
 "nbformat_minor": 0
}
